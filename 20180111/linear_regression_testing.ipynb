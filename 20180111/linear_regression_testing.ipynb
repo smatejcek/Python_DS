{
 "cells": [
  {
   "cell_type": "code",
   "execution_count": 1,
   "metadata": {},
   "outputs": [
    {
     "name": "stderr",
     "output_type": "stream",
     "text": [
      "C:\\Users\\etqw5lb\\AppData\\Local\\Continuum\\anaconda3\\lib\\site-packages\\statsmodels\\compat\\pandas.py:56: FutureWarning: The pandas.core.datetools module is deprecated and will be removed in a future version. Please use the pandas.tseries module instead.\n",
      "  from pandas.core import datetools\n"
     ]
    }
   ],
   "source": [
    "import pandas as pd\n",
    "import numpy as np\n",
    "import matplotlib.pyplot as plt\n",
    "import statsmodels.api as sm\n",
    "from pandas.plotting import scatter_matrix\n",
    "from sklearn import linear_model\n",
    "from sklearn.model_selection import train_test_split\n",
    "from itertools import combinations\n",
    "%matplotlib inline\n",
    "df = pd.read_csv(\"Credit.csv\", index_col = 0)"
   ]
  },
  {
   "cell_type": "code",
   "execution_count": 75,
   "metadata": {},
   "outputs": [
    {
     "data": {
      "text/html": [
       "<div>\n",
       "<style>\n",
       "    .dataframe thead tr:only-child th {\n",
       "        text-align: right;\n",
       "    }\n",
       "\n",
       "    .dataframe thead th {\n",
       "        text-align: left;\n",
       "    }\n",
       "\n",
       "    .dataframe tbody tr th {\n",
       "        vertical-align: top;\n",
       "    }\n",
       "</style>\n",
       "<table border=\"1\" class=\"dataframe\">\n",
       "  <thead>\n",
       "    <tr style=\"text-align: right;\">\n",
       "      <th></th>\n",
       "      <th>Income</th>\n",
       "      <th>Limit</th>\n",
       "      <th>Rating</th>\n",
       "      <th>Cards</th>\n",
       "      <th>Age</th>\n",
       "      <th>Education</th>\n",
       "      <th>Student</th>\n",
       "      <th>Married</th>\n",
       "      <th>Ethnicity</th>\n",
       "      <th>Balance</th>\n",
       "      <th>Female</th>\n",
       "    </tr>\n",
       "  </thead>\n",
       "  <tbody>\n",
       "    <tr>\n",
       "      <th>1</th>\n",
       "      <td>14.891</td>\n",
       "      <td>3606</td>\n",
       "      <td>283</td>\n",
       "      <td>2</td>\n",
       "      <td>34</td>\n",
       "      <td>11</td>\n",
       "      <td>0</td>\n",
       "      <td>1</td>\n",
       "      <td>0</td>\n",
       "      <td>333</td>\n",
       "      <td>0</td>\n",
       "    </tr>\n",
       "    <tr>\n",
       "      <th>2</th>\n",
       "      <td>106.025</td>\n",
       "      <td>6645</td>\n",
       "      <td>483</td>\n",
       "      <td>3</td>\n",
       "      <td>82</td>\n",
       "      <td>15</td>\n",
       "      <td>1</td>\n",
       "      <td>1</td>\n",
       "      <td>1</td>\n",
       "      <td>903</td>\n",
       "      <td>1</td>\n",
       "    </tr>\n",
       "    <tr>\n",
       "      <th>3</th>\n",
       "      <td>104.593</td>\n",
       "      <td>7075</td>\n",
       "      <td>514</td>\n",
       "      <td>4</td>\n",
       "      <td>71</td>\n",
       "      <td>11</td>\n",
       "      <td>0</td>\n",
       "      <td>0</td>\n",
       "      <td>1</td>\n",
       "      <td>580</td>\n",
       "      <td>0</td>\n",
       "    </tr>\n",
       "  </tbody>\n",
       "</table>\n",
       "</div>"
      ],
      "text/plain": [
       "    Income  Limit  Rating  Cards  Age  Education  Student  Married  Ethnicity  \\\n",
       "1   14.891   3606     283      2   34         11        0        1          0   \n",
       "2  106.025   6645     483      3   82         15        1        1          1   \n",
       "3  104.593   7075     514      4   71         11        0        0          1   \n",
       "\n",
       "   Balance  Female  \n",
       "1      333       0  \n",
       "2      903       1  \n",
       "3      580       0  "
      ]
     },
     "execution_count": 75,
     "metadata": {},
     "output_type": "execute_result"
    }
   ],
   "source": [
    "df = pd.read_csv('credit.csv', index_col=0)\n",
    "df = df[df[\"Limit\"] > 3500]\n",
    "df['Student'] = df[\"Student\"].map({'No':0, 'Yes':1})\n",
    "df['Married'] = df.Married.map({'No':0, 'Yes':1})\n",
    "df['Ethnicity'] = df.Ethnicity.map({'Caucasian':0, 'Asian':1, 'African American':2})\n",
    "df['Female'] = pd.get_dummies(df[\"Gender\"])['Female']\n",
    "df.drop(['Gender'], axis=1, inplace=True)\n",
    "df.head(3)"
   ]
  },
  {
   "cell_type": "code",
   "execution_count": 11,
   "metadata": {},
   "outputs": [
    {
     "data": {
      "text/plain": [
       "0.7896600622983454"
      ]
     },
     "execution_count": 11,
     "metadata": {},
     "output_type": "execute_result"
    }
   ],
   "source": [
    "y = df[\"Balance\"]\n",
    "X = pd.DataFrame(df, columns = [\"Rating\", \"Income\", \"Limit\"]) #Alternative assignment method\n",
    "X_train, X_test, y_train, y_test = train_test_split(X, y, test_size = 0.33, random_state = 42)\n",
    "model = linear_model.LinearRegression(fit_intercept = True).fit(X_train, y_train)\n",
    "model.score(X_test, y_test)"
   ]
  },
  {
   "cell_type": "markdown",
   "metadata": {},
   "source": []
  },
  {
   "cell_type": "code",
   "execution_count": 53,
   "metadata": {},
   "outputs": [
    {
     "data": {
      "text/plain": [
       "array([  2.63297744, -10.21979461,   0.14674094])"
      ]
     },
     "execution_count": 53,
     "metadata": {},
     "output_type": "execute_result"
    }
   ],
   "source": [
    "model.coef_"
   ]
  },
  {
   "cell_type": "markdown",
   "metadata": {},
   "source": []
  },
  {
   "cell_type": "code",
   "execution_count": 54,
   "metadata": {},
   "outputs": [
    {
     "data": {
      "text/plain": [
       "-701.65496642193568"
      ]
     },
     "execution_count": 54,
     "metadata": {},
     "output_type": "execute_result"
    }
   ],
   "source": [
    "model.intercept_"
   ]
  },
  {
   "cell_type": "code",
   "execution_count": 50,
   "metadata": {},
   "outputs": [
    {
     "data": {
      "text/plain": [
       "-701.65496642193568"
      ]
     },
     "execution_count": 50,
     "metadata": {},
     "output_type": "execute_result"
    }
   ],
   "source": [
    "model.intercept_"
   ]
  },
  {
   "cell_type": "code",
   "execution_count": 51,
   "metadata": {},
   "outputs": [
    {
     "data": {
      "text/plain": [
       "array([  2.63297744, -10.21979461,   0.14674094])"
      ]
     },
     "execution_count": 51,
     "metadata": {},
     "output_type": "execute_result"
    }
   ],
   "source": [
    "model.coef_"
   ]
  },
  {
   "cell_type": "code",
   "execution_count": 5,
   "metadata": {},
   "outputs": [
    {
     "data": {
      "text/plain": [
       "[('Rating', 'Income'),\n",
       " ('Rating', 'Limit'),\n",
       " ('Rating', 'Student'),\n",
       " ('Income', 'Limit'),\n",
       " ('Income', 'Student'),\n",
       " ('Limit', 'Student')]"
      ]
     },
     "execution_count": 5,
     "metadata": {},
     "output_type": "execute_result"
    }
   ],
   "source": [
    "list(combinations([\"Rating\", \"Income\", \"Limit\", \"Student\"], 2))"
   ]
  },
  {
   "cell_type": "code",
   "execution_count": 6,
   "metadata": {},
   "outputs": [
    {
     "data": {
      "text/plain": [
       "6"
      ]
     },
     "execution_count": 6,
     "metadata": {},
     "output_type": "execute_result"
    }
   ],
   "source": [
    "len(list(combinations([\"Rating\", \"Income\", \"Limit\", \"Student\"], 2)))"
   ]
  },
  {
   "cell_type": "code",
   "execution_count": 7,
   "metadata": {},
   "outputs": [
    {
     "data": {
      "text/plain": [
       "['Income',\n",
       " 'Limit',\n",
       " 'Rating',\n",
       " 'Cards',\n",
       " 'Age',\n",
       " 'Education',\n",
       " 'Student',\n",
       " 'Married',\n",
       " 'Ethnicity',\n",
       " 'Balance',\n",
       " 'Female']"
      ]
     },
     "execution_count": 7,
     "metadata": {},
     "output_type": "execute_result"
    }
   ],
   "source": [
    "list(df)"
   ]
  },
  {
   "cell_type": "code",
   "execution_count": 81,
   "metadata": {},
   "outputs": [],
   "source": [
    "columns = [c for c in list(df) if c != \"Balance\"]\n",
    "results = []\n",
    "for i in range(1, len(columns) + 1):\n",
    "    combos = list(combinations(columns, i))\n",
    "    for c in combos:\n",
    "        y = df[\"Balance\"]\n",
    "        X = pd.DataFrame(df, columns = c) #Alternative assignment method\n",
    "        X_train, X_test, y_train, y_test = train_test_split(X, y, test_size = 0.33, random_state = 42)\n",
    "        for j in range(2):\n",
    "            model = linear_model.LinearRegression(fit_intercept = j == 1).fit(X_train, y_train)\n",
    "            score = model.score(X_test, y_test)\n",
    "            results.append([score, \"Intercept: {}\".format(j == 1), c, \"Coef: {}\".format(model.coef_), \"Int: {}\".format(model.intercept_)])\n",
    "# Add coef            "
   ]
  },
  {
   "cell_type": "code",
   "execution_count": 82,
   "metadata": {},
   "outputs": [
    {
     "data": {
      "text/plain": [
       "[0.99896112451243235,\n",
       " 'Intercept: True',\n",
       " ('Income', 'Limit', 'Cards', 'Age', 'Education', 'Student', 'Married'),\n",
       " 'Coef: [ -9.70635834e+00   3.20926358e-01   2.55767496e+01  -1.18837484e+00\\n   2.17753824e-01   5.00295363e+02  -1.54190664e+00]',\n",
       " 'Int: -677.1179568399203']"
      ]
     },
     "execution_count": 82,
     "metadata": {},
     "output_type": "execute_result"
    }
   ],
   "source": [
    "max(results)"
   ]
  },
  {
   "cell_type": "code",
   "execution_count": 83,
   "metadata": {},
   "outputs": [
    {
     "data": {
      "text/plain": [
       "[0.95180844453358426,\n",
       " 'Intercept: False',\n",
       " ('Income',\n",
       "  'Limit',\n",
       "  'Rating',\n",
       "  'Cards',\n",
       "  'Age',\n",
       "  'Education',\n",
       "  'Student',\n",
       "  'Married',\n",
       "  'Female'),\n",
       " 'Coef: [ -8.08671527e+00   4.33119848e-01  -2.35560593e+00   1.83564116e+01\\n  -3.17688273e+00  -1.80933927e+01   5.11924882e+02  -1.90813579e+01\\n  -2.00629920e+01]',\n",
       " 'Int: 0.0']"
      ]
     },
     "execution_count": 83,
     "metadata": {},
     "output_type": "execute_result"
    }
   ],
   "source": [
    "max([r for r in results if r[1] == \"Intercept: False\"])"
   ]
  },
  {
   "cell_type": "code",
   "execution_count": 67,
   "metadata": {},
   "outputs": [
    {
     "data": {
      "text/plain": [
       "[[-0.70930636624697729, 'Intercept: False', ('Income',)],\n",
       " [0.086668123255953522, 'Intercept: True', ('Income',)],\n",
       " [0.52597804465589704, 'Intercept: False', ('Limit',)],\n",
       " [0.53791261505688004, 'Intercept: True', ('Limit',)],\n",
       " [0.5040488410587094, 'Intercept: False', ('Rating',)],\n",
       " [0.52795880250748994, 'Intercept: True', ('Rating',)],\n",
       " [-0.62188240318388599, 'Intercept: False', ('Cards',)],\n",
       " [-0.023474129711298808, 'Intercept: True', ('Cards',)],\n",
       " [-0.21054446784269221, 'Intercept: False', ('Age',)],\n",
       " [-0.01002813933107527, 'Intercept: True', ('Age',)]]"
      ]
     },
     "execution_count": 67,
     "metadata": {},
     "output_type": "execute_result"
    }
   ],
   "source": [
    "results[0:10]"
   ]
  },
  {
   "cell_type": "code",
   "execution_count": null,
   "metadata": {
    "collapsed": true
   },
   "outputs": [],
   "source": []
  }
 ],
 "metadata": {
  "kernelspec": {
   "display_name": "Python 3",
   "language": "python",
   "name": "python3"
  },
  "language_info": {
   "codemirror_mode": {
    "name": "ipython",
    "version": 3
   },
   "file_extension": ".py",
   "mimetype": "text/x-python",
   "name": "python",
   "nbconvert_exporter": "python",
   "pygments_lexer": "ipython3",
   "version": "3.6.2"
  }
 },
 "nbformat": 4,
 "nbformat_minor": 2
}
